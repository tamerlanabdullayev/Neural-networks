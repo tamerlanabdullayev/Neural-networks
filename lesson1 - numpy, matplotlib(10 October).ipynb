{
 "cells": [
  {
   "cell_type": "code",
   "execution_count": null,
   "metadata": {},
   "outputs": [],
   "source": [
    "import numpy as np\n",
    "import matplotlib.pyplot as plt"
   ]
  },
  {
   "cell_type": "code",
   "execution_count": 14,
   "metadata": {},
   "outputs": [
    {
     "name": "stdout",
     "output_type": "stream",
     "text": [
      "[1, 2, 3, 1, 2, 3]\n"
     ]
    }
   ],
   "source": [
    "list_array = [1, 2, 3]\n",
    "a = list_array + list_array\n",
    "print(a)"
   ]
  },
  {
   "cell_type": "code",
   "execution_count": 15,
   "metadata": {},
   "outputs": [
    {
     "data": {
      "text/plain": [
       "array([2, 4, 6])"
      ]
     },
     "execution_count": 15,
     "metadata": {},
     "output_type": "execute_result"
    }
   ],
   "source": [
    "numpy_array = np.array(list_array)\n",
    "n = numpy_array + numpy_array\n",
    "n"
   ]
  },
  {
   "cell_type": "code",
   "execution_count": 19,
   "metadata": {},
   "outputs": [
    {
     "name": "stdout",
     "output_type": "stream",
     "text": [
      "[[1 2 3]\n",
      " [4 5 6]]\n"
     ]
    }
   ],
   "source": [
    "list_matrix = [[1, 2, 3], [4, 5, 6]]\n",
    "numpy_matrix = np.array(list_matrix)\n",
    "print(numpy_matrix)"
   ]
  },
  {
   "cell_type": "code",
   "execution_count": 26,
   "metadata": {},
   "outputs": [],
   "source": [
    "# built-in functions\n",
    "\n",
    "arranged_data = np.arange(0, 15, 3)\n",
    "np_zeros = np.zeros(10)\n",
    "np_ones = np.ones(10)"
   ]
  },
  {
   "cell_type": "code",
   "execution_count": 58,
   "metadata": {},
   "outputs": [],
   "source": [
    "random_data = np.random.rand(100)*100\n",
    "random_data = np.random.rand(5, 5)*100  # uniform distibution\n",
    "random_data = np.random.randn(100)*0.2  # standard normal distrubition\n",
    "random_data = np.random.randint(1, 100)\n"
   ]
  },
  {
   "cell_type": "code",
   "execution_count": 64,
   "metadata": {},
   "outputs": [
    {
     "data": {
      "text/plain": [
       "array([[ 0.48004606, 58.20125328, 65.61646856, 36.05944108, 55.01662595,\n",
       "        71.24928164, 13.22686337, 31.88301469, 66.88184676, 16.70499362,\n",
       "        22.6411336 , 21.98549442, 94.73062589, 20.3785561 , 43.93856807,\n",
       "        20.58063929, 42.32503551, 86.22732468, 64.38671714, 58.41072703,\n",
       "        13.01795583,  4.51210495, 57.80452073, 82.113836  ,  0.94768077]])"
      ]
     },
     "execution_count": 64,
     "metadata": {},
     "output_type": "execute_result"
    }
   ],
   "source": [
    "random_data = np.random.rand(5, 5)*100\n",
    "random_data.shape\n",
    "random_data.reshape(1, 25)"
   ]
  },
  {
   "cell_type": "code",
   "execution_count": 68,
   "metadata": {},
   "outputs": [
    {
     "name": "stdout",
     "output_type": "stream",
     "text": [
      "94.73062588901429\n"
     ]
    }
   ],
   "source": [
    "max_val = np.max(random_data)\n",
    "min_val = np.min(random_data)\n",
    "print(max_val)"
   ]
  },
  {
   "cell_type": "code",
   "execution_count": 79,
   "metadata": {},
   "outputs": [],
   "source": [
    "data = np.loadtxt(r\"winequality-red.csv\", dtype='str', delimiter=';')\n",
    "second_col = data[:,1]\n",
    "plt.plot(data[:400, 3], data[:400, 3], 'o')\n",
    "plt.xlabel('x_axis')\n",
    "plt.ylabel('y_axis')\n",
    "plt.title(\"Correlation\")\n"
   ]
  },
  {
   "cell_type": "code",
   "execution_count": 84,
   "metadata": {},
   "outputs": [],
   "source": [
    "data_to_save = data[100:400, 3:5]\n",
    "np.savetxt('new.csv', data_to_save, delimiter=',', fmt='%s')"
   ]
  }
 ],
 "metadata": {
  "interpreter": {
   "hash": "c0098c58a39e337eef1841f4138b44c1991c748df062996af13724c402dde316"
  },
  "kernelspec": {
   "display_name": "Python 3.9.6 64-bit",
   "name": "python3"
  },
  "language_info": {
   "codemirror_mode": {
    "name": "ipython",
    "version": 3
   },
   "file_extension": ".py",
   "mimetype": "text/x-python",
   "name": "python",
   "nbconvert_exporter": "python",
   "pygments_lexer": "ipython3",
   "version": "3.9.8"
  },
  "orig_nbformat": 4
 },
 "nbformat": 4,
 "nbformat_minor": 2
}
