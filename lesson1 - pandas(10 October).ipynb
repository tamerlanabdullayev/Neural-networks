{
 "cells": [
  {
   "cell_type": "code",
   "execution_count": 1,
   "metadata": {},
   "outputs": [],
   "source": [
    "import numpy as np\n",
    "import pandas as pd\n",
    "import matplotlib.pyplot as plt"
   ]
  },
  {
   "cell_type": "code",
   "execution_count": 4,
   "metadata": {},
   "outputs": [],
   "source": [
    "# create pandas series from scratch\n",
    "\n",
    "list_array = ['a', 'b', 'c', 'd']\n",
    "labels = [1, 2, 3, 4]\n",
    "series_1 = pd.Series(data=list_array, index=labels)\n"
   ]
  },
  {
   "cell_type": "code",
   "execution_count": 5,
   "metadata": {},
   "outputs": [],
   "source": [
    "nump_array = np.array([10, 20, 30, 40])\n",
    "labels = [1, 2, 3, 4]\n",
    "series_2 = pd.Series(data=nump_array, index=labels)"
   ]
  },
  {
   "cell_type": "code",
   "execution_count": 7,
   "metadata": {},
   "outputs": [],
   "source": [
    "dict_1 = {\"name\": \"Tamerlan\", \"email\": \"tamerlanabdullayev3@gmail.com\", \"age\": 20}\n",
    "series_3 = pd.Series(dict_1)"
   ]
  },
  {
   "cell_type": "code",
   "execution_count": 9,
   "metadata": {},
   "outputs": [
    {
     "data": {
      "text/plain": [
       "'Tamerlan'"
      ]
     },
     "execution_count": 9,
     "metadata": {},
     "output_type": "execute_result"
    }
   ],
   "source": [
    "series_3[\"email\"] # access by index of a label\n",
    "series_3.iloc[0]"
   ]
  },
  {
   "cell_type": "code",
   "execution_count": 14,
   "metadata": {},
   "outputs": [],
   "source": [
    "numpy_array = np.random.randint(10, 100, size=(2, 3))\n",
    "dframe = pd.DataFrame(numpy_array, [\"A\", \"B\"], [\"C\", \"D\", \"E\"])"
   ]
  },
  {
   "cell_type": "code",
   "execution_count": 36,
   "metadata": {},
   "outputs": [
    {
     "data": {
      "text/plain": [
       "C    99\n",
       "D    67\n",
       "E    62\n",
       "Name: A, dtype: int32"
      ]
     },
     "execution_count": 36,
     "metadata": {},
     "output_type": "execute_result"
    }
   ],
   "source": [
    "dframe.iloc[0, 2]\n",
    "dframe[\"D\"]\n",
    "dframe[[\"C\", \"D\"]]\n",
    "dframe.loc[\"A\"]"
   ]
  },
  {
   "cell_type": "code",
   "execution_count": 39,
   "metadata": {},
   "outputs": [],
   "source": [
    "data = pd.read_csv(\"winequality-red.csv\", delimiter=\";\")\n",
    "data.to_csv(\"new_pd.csv\")"
   ]
  }
 ],
 "metadata": {
  "interpreter": {
   "hash": "c0098c58a39e337eef1841f4138b44c1991c748df062996af13724c402dde316"
  },
  "kernelspec": {
   "display_name": "Python 3.9.6 64-bit",
   "name": "python3"
  },
  "language_info": {
   "codemirror_mode": {
    "name": "ipython",
    "version": 3
   },
   "file_extension": ".py",
   "mimetype": "text/x-python",
   "name": "python",
   "nbconvert_exporter": "python",
   "pygments_lexer": "ipython3",
   "version": "3.9.6"
  },
  "orig_nbformat": 4
 },
 "nbformat": 4,
 "nbformat_minor": 2
}
